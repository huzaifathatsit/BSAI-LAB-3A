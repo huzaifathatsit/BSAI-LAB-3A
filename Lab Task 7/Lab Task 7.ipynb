{
 "cells": [
  {
   "cell_type": "code",
   "execution_count": 7,
   "id": "0f64c746",
   "metadata": {},
   "outputs": [
    {
     "name": "stdout",
     "output_type": "stream",
     "text": [
      "Path found: ['A', 'F', 'H', 'I', 'J']\n"
     ]
    },
    {
     "data": {
      "text/plain": [
       "['A', 'F', 'H', 'I', 'J']"
      ]
     },
     "execution_count": 7,
     "metadata": {},
     "output_type": "execute_result"
    }
   ],
   "source": [
    "Graph_nodes = {\n",
    "    'A': [('B', 5), ('F', 4)],\n",
    "    'B': [('C', 6), ('D', 8)],\n",
    "    'C': [('D', 3), ('E', 3)],\n",
    "    'D': [('C', 2), ('E', 1)],\n",
    "    'E': [('I', 1), ('J', 7)],\n",
    "    'F': [('G', 5),('H', 2)] ,\n",
    "    'G': [('I', 4)],\n",
    "    'H': [('I', 3)],\n",
    "    'I': [('E', 2), ('J', 4)]\n",
    "    }\n",
    "\n",
    "\n",
    "def get_neighbors(v):\n",
    "    if v in Graph_nodes:\n",
    "        return Graph_nodes[v]\n",
    "    else:\n",
    "        return None\n",
    "    \n",
    "       \n",
    "def h(n):\n",
    "        H_distance = {\n",
    "            'A': 6,\n",
    "            'B': 3,\n",
    "            'C': 6,\n",
    "            'D': 5,\n",
    "            'E': 3,\n",
    "            'F': 7,\n",
    "            'G': 6,\n",
    "            'H': 8,\n",
    "            'I': 10,\n",
    "            'J': 0             \n",
    "        }\n",
    "        return H_distance[n]\n",
    "\n",
    "        \n",
    "def AStar(start_node, stop_node):\n",
    "    open_set = set(start_node) \n",
    "    closed_set = set()\n",
    "    g = {} \n",
    "    parents = {}\n",
    "    g[start_node] = 0\n",
    "    parents[start_node] = start_node\n",
    "\n",
    "        \n",
    "    while len(open_set) > 0:\n",
    "        n = None\n",
    "        for v in open_set:\n",
    "            if n == None or g[v] + h(v) < g[n] + h(n):\n",
    "                n = v\n",
    "        if n == stop_node or Graph_nodes[n] == None:\n",
    "            pass\n",
    "        else:\n",
    "            for (m, weight) in get_neighbors(n):\n",
    "                if m not in open_set and m not in closed_set:\n",
    "                    open_set.add(m)\n",
    "                    parents[m] = n\n",
    "                    g[m] = g[n] + weight         \n",
    "                else:\n",
    "                    if g[m] > g[n] + weight:\n",
    "                        g[m] = g[n] + weight\n",
    "                        parents[m] = n\n",
    "                        if m in closed_set:\n",
    "                            closed_set.remove(m)\n",
    "                            open_set.add(m)\n",
    "\n",
    " \n",
    "        if n == None:\n",
    "            print('Path does not exist!')\n",
    "            return None\n",
    "        if n == stop_node:\n",
    "            path = []\n",
    "            while parents[n] != n:\n",
    "                path.append(n)\n",
    "                n = parents[n]\n",
    "            path.append(start_node)\n",
    "            path.reverse()\n",
    "            print('Path found: {}'.format(path))\n",
    "            return path\n",
    "        open_set.remove(n)\n",
    "        closed_set.add(n)\n",
    "\n",
    " \n",
    "    print('Path does not exist!')\n",
    "    return None\n",
    "\n",
    "\n",
    "AStar('A', 'J')             \n",
    "    "
   ]
  }
 ],
 "metadata": {
  "kernelspec": {
   "display_name": "Python 3",
   "language": "python",
   "name": "python3"
  },
  "language_info": {
   "codemirror_mode": {
    "name": "ipython",
    "version": 3
   },
   "file_extension": ".py",
   "mimetype": "text/x-python",
   "name": "python",
   "nbconvert_exporter": "python",
   "pygments_lexer": "ipython3",
   "version": "3.11.9"
  }
 },
 "nbformat": 4,
 "nbformat_minor": 5
}
