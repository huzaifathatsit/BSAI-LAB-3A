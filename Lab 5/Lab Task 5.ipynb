{
 "cells": [
  {
   "cell_type": "code",
   "execution_count": 7,
   "id": "abe626e0",
   "metadata": {},
   "outputs": [
    {
     "name": "stdout",
     "output_type": "stream",
     "text": [
      "DFS using Stack:\n",
      "A B D E F C "
     ]
    }
   ],
   "source": [
    "def dfs_stack(graph, start):\n",
    "    visited = set()      \n",
    "    stack = [start]      \n",
    "\n",
    "    while stack:         \n",
    "        vertex = stack.pop()  \n",
    "        if vertex not in visited:\n",
    "            print(vertex, end=\" \")  \n",
    "            visited.add(vertex)\n",
    "\n",
    "            for neighbor in reversed(graph[vertex]):\n",
    "                if neighbor not in visited:\n",
    "                    stack.append(neighbor)\n",
    "\n",
    "\n",
    "graph = {\n",
    "    'A': ['B', 'C'],\n",
    "    'B': ['D', 'E'],\n",
    "    'C': ['F'],\n",
    "    'D': [],\n",
    "    'E': ['F'],\n",
    "    'F': []\n",
    "}\n",
    "\n",
    "print(\"DFS using Stack:\")\n",
    "dfs_stack(graph, 'A')"
   ]
  },
  {
   "cell_type": "code",
   "execution_count": 2,
   "id": "39407e47",
   "metadata": {},
   "outputs": [
    {
     "name": "stdout",
     "output_type": "stream",
     "text": [
      "Preorder Traversal:\n",
      "A B D E C F \n",
      "Inorder Traversal:\n",
      "D B E A C F \n",
      "Postorder Traversal:\n",
      "D E B F C A "
     ]
    }
   ],
   "source": [
    "tree = {\n",
    "    'A': ['B', 'C'],\n",
    "    'B': ['D', 'E'],\n",
    "    'C': [None, 'F'],\n",
    "    'D': [None, None],\n",
    "    'E': [None, None],\n",
    "    'F': [None,None ]\n",
    "}\n",
    "\n",
    "def preorder(tree, root):\n",
    "    if root is None:\n",
    "        return\n",
    "    print(root, end=\" \")\n",
    "    preorder(tree, tree[root][0])   \n",
    "    preorder(tree, tree[root][1])   \n",
    "\n",
    "def inorder(tree, root):\n",
    "    if root is None:\n",
    "        return\n",
    "    inorder(tree, tree[root][0])    \n",
    "    print(root, end=\" \")\n",
    "    inorder(tree, tree[root][1])   \n",
    "\n",
    "def postorder(tree, root):\n",
    "    if root is None:\n",
    "        return\n",
    "    postorder(tree, tree[root][0])  \n",
    "    postorder(tree, tree[root][1]) \n",
    "    print(root, end=\" \")\n",
    "\n",
    "print(\"Preorder Traversal:\")\n",
    "preorder(tree, 'A')\n",
    "print(\"\\nInorder Traversal:\")\n",
    "inorder(tree, 'A')\n",
    "print(\"\\nPostorder Traversal:\")\n",
    "postorder(tree, 'A')"
   ]
  }
 ],
 "metadata": {
  "kernelspec": {
   "display_name": "Python 3",
   "language": "python",
   "name": "python3"
  },
  "language_info": {
   "codemirror_mode": {
    "name": "ipython",
    "version": 3
   },
   "file_extension": ".py",
   "mimetype": "text/x-python",
   "name": "python",
   "nbconvert_exporter": "python",
   "pygments_lexer": "ipython3",
   "version": "3.11.9"
  }
 },
 "nbformat": 4,
 "nbformat_minor": 5
}
