{
 "cells": [
  {
   "cell_type": "code",
   "execution_count": 2,
   "id": "0fffca9c",
   "metadata": {},
   "outputs": [
    {
     "name": "stdout",
     "output_type": "stream",
     "text": [
      "Temperature: 20°C, Heater ON\n",
      "Temperature: 21°C, No Change, Heater ON\n",
      "Temperature: 22°C, No Change, Heater ON\n",
      "Temperature: 23°C, Heater Off\n",
      "Temperature: 24°C, No Change, Heater OFF\n",
      "Temperature: 25°C, No Change, Heater OFF\n",
      "Temperature: 26°C, No Change, Heater OFF\n",
      "Temperature: 18°C, Heater ON\n"
     ]
    }
   ],
   "source": [
    "class ReflexAgent:\n",
    "    def __init__(self):\n",
    "        self.last_action = None\n",
    "        \n",
    "    def decide(self,temperature):\n",
    "        if temperature <= 22 and self.last_action != \"ON\":\n",
    "            self.last_action = \"ON\"\n",
    "            return \"Heater ON\"\n",
    "        elif temperature > 22 and self.last_action != \"OFF\":\n",
    "            self.last_action = \"OFF\"\n",
    "            return \"Heater Off\"\n",
    "        else:\n",
    "            return f\"No Change, Heater {self.last_action}\"\n",
    "\n",
    "agent = ReflexAgent()\n",
    "temperatures = [20, 21, 22, 23, 24, 25, 26, 18]\n",
    "\n",
    "for t in temperatures:\n",
    "    print(f\"Temperature: {t}°C, {agent.decide(t)}\")\n",
    "\n",
    "\n"
   ]
  }
 ],
 "metadata": {
  "kernelspec": {
   "display_name": "Python 3",
   "language": "python",
   "name": "python3"
  },
  "language_info": {
   "codemirror_mode": {
    "name": "ipython",
    "version": 3
   },
   "file_extension": ".py",
   "mimetype": "text/x-python",
   "name": "python",
   "nbconvert_exporter": "python",
   "pygments_lexer": "ipython3",
   "version": "3.11.9"
  }
 },
 "nbformat": 4,
 "nbformat_minor": 5
}
