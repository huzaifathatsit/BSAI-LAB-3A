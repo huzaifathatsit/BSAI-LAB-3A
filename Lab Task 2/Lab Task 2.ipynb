{
 "cells": [
  {
   "cell_type": "code",
   "execution_count": 6,
   "id": "86799274",
   "metadata": {},
   "outputs": [
    {
     "name": "stdout",
     "output_type": "stream",
     "text": [
      "Welcome to the FizzBuzz Game!\n",
      "Game Started, The first number is 1\n",
      "Correct! Your score is: 1\n",
      "\n",
      "Correct! Your score is: 2\n",
      "\n",
      "Correct! Your score is: 3\n",
      "\n",
      "Correct! Your score is: 4\n",
      "\n",
      "Correct! Your score is: 5\n",
      "\n",
      "Correct! Your score is: 6\n",
      "\n",
      "Correct! Your score is: 7\n",
      "\n",
      "Correct! Your score is: 8\n",
      "\n",
      "Correct! Your score is: 9\n",
      "\n",
      "Wrong! The correct answer was 'fizz'\n",
      "Final score is: 9\n"
     ]
    }
   ],
   "source": [
    "def fizzbuzz(num):\n",
    "    if num % 3 == 0 and num % 5 == 0:\n",
    "        return \"fizzbuzz\"\n",
    "    elif num % 3 == 0:\n",
    "        return \"fizz\"\n",
    "    elif num % 5 == 0:\n",
    "        return \"buzz\"\n",
    "    else:\n",
    "        return str(num)\n",
    "    \n",
    "\n",
    "def fizzbuzz_game():\n",
    "    print(\"Welcome to the FizzBuzz Game!\")\n",
    "    score = 0\n",
    "    prev = 0\n",
    "    i = 1\n",
    "    while True:\n",
    "        if prev == 0:\n",
    "            print(\"Game Started, The first number is 1\")\n",
    "        else:\n",
    "            total = prev + i\n",
    "            correct_answer = fizzbuzz(total)\n",
    "\n",
    "\n",
    "            choice = input(f\"Enter fizz/buzz/fizzbuzz or {total}, or 'q' to quit: \").strip().lower()\n",
    "\n",
    "            \n",
    "            if choice == 'q':\n",
    "                print(f\"Game ended. Your final score is: {score}\")\n",
    "                break\n",
    "            if choice == correct_answer:\n",
    "                score += 1\n",
    "                print(f\"Correct! Your score is: {score}\\n\")\n",
    "            else:\n",
    "                print(f\"Wrong! The correct answer was '{correct_answer}'\")\n",
    "                print(f\"Final score is: {score}\")\n",
    "                break\n",
    "        prev = i\n",
    "        i += 1\n",
    "\n",
    "\n",
    "fizzbuzz_game()\n"
   ]
  }
 ],
 "metadata": {
  "kernelspec": {
   "display_name": "Python 3",
   "language": "python",
   "name": "python3"
  },
  "language_info": {
   "codemirror_mode": {
    "name": "ipython",
    "version": 3
   },
   "file_extension": ".py",
   "mimetype": "text/x-python",
   "name": "python",
   "nbconvert_exporter": "python",
   "pygments_lexer": "ipython3",
   "version": "3.11.9"
  }
 },
 "nbformat": 4,
 "nbformat_minor": 5
}
