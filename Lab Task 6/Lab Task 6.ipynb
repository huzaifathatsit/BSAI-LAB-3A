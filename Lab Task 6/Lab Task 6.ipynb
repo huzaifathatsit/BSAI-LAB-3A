{
 "cells": [
  {
   "cell_type": "markdown",
   "id": "dc4ff43a",
   "metadata": {},
   "source": [
    "Task 1"
   ]
  },
  {
   "cell_type": "code",
   "execution_count": 13,
   "id": "0e75cb74",
   "metadata": {},
   "outputs": [
    {
     "name": "stdout",
     "output_type": "stream",
     "text": [
      "BFS Result:\n",
      "A,B,C,D,E,F,"
     ]
    }
   ],
   "source": [
    "def bfs(graph, start_node):\n",
    "    visited_nodes = set()           \n",
    "    queue = [start_node]            \n",
    "\n",
    "    while len(queue) > 0:   \n",
    "        current_node = queue[0]     \n",
    "        queue = queue[1:]           \n",
    "\n",
    "        if current_node not in visited_nodes:\n",
    "            print(current_node, end=\",\")\n",
    "            visited_nodes.add(current_node)\n",
    "\n",
    "            for neighbor in graph[current_node]:\n",
    "                if neighbor not in visited_nodes:\n",
    "                    queue.append(neighbor)\n",
    "\n",
    "\n",
    "graph = {\n",
    "    'A': ['B', 'C'],\n",
    "    'B': ['D', 'E'],\n",
    "    'C': ['F'],\n",
    "    'D': [],\n",
    "    'E': ['F'],\n",
    "    'F': []\n",
    "}\n",
    "\n",
    "print(\"BFS Result:\")\n",
    "bfs(graph, 'A')\n"
   ]
  },
  {
   "cell_type": "markdown",
   "id": "b14ea067",
   "metadata": {},
   "source": [
    "Task 2"
   ]
  },
  {
   "cell_type": "code",
   "execution_count": 12,
   "id": "5b3a34ba",
   "metadata": {},
   "outputs": [
    {
     "name": "stdout",
     "output_type": "stream",
     "text": [
      "BFS Result:\n",
      "A,B,C,D,E,F,"
     ]
    }
   ],
   "source": [
    "def bfs(graph, start_node):\n",
    "    visited_nodes = set()        \n",
    "    queue = [start_node]        \n",
    "\n",
    "    while queue:                 \n",
    "        current_node = queue.pop(0)  \n",
    "\n",
    "        if current_node not in visited_nodes:\n",
    "            print(current_node, end=\",\")\n",
    "            visited_nodes.add(current_node)\n",
    "\n",
    "            for neighbor in graph[current_node]:\n",
    "                if neighbor not in visited_nodes:\n",
    "                    queue.append(neighbor)\n",
    "\n",
    "\n",
    "graph = {\n",
    "    'A': ['B', 'C'],\n",
    "    'B': ['D', 'E'],\n",
    "    'C': ['F'],\n",
    "    'D': [],\n",
    "    'E': ['F'],\n",
    "    'F': []\n",
    "}\n",
    "print(\"BFS Result:\")\n",
    "bfs(graph, 'A')\n"
   ]
  }
 ],
 "metadata": {
  "kernelspec": {
   "display_name": "Python 3",
   "language": "python",
   "name": "python3"
  },
  "language_info": {
   "codemirror_mode": {
    "name": "ipython",
    "version": 3
   },
   "file_extension": ".py",
   "mimetype": "text/x-python",
   "name": "python",
   "nbconvert_exporter": "python",
   "pygments_lexer": "ipython3",
   "version": "3.11.9"
  }
 },
 "nbformat": 4,
 "nbformat_minor": 5
}
